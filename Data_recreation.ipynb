{
 "cells": [
  {
   "cell_type": "markdown",
   "metadata": {},
   "source": [
    "# Plotting the variance vs cycle life data and calculating correlation coefficient"
   ]
  },
  {
   "cell_type": "code",
   "execution_count": 24,
   "metadata": {},
   "outputs": [],
   "source": [
    "#import the necessary files\n",
    "import matplotlib.pyplot as plt #used for plotting the graph\n",
    "import pandas as pd #used to import the data\n",
    "import numpy as np\n",
    "from sklearn.linear_model import LinearRegression as lr #plotting the line of best fit\n",
    "from scipy.stats.stats import pearsonr #used to calculate correlation coefficient"
   ]
  },
  {
   "cell_type": "code",
   "execution_count": 25,
   "metadata": {},
   "outputs": [],
   "source": [
    "variance_data = pd.read_csv('variance_data.csv') #save the variance vs cycle life data as a stored variable called variance_data"
   ]
  },
  {
   "cell_type": "code",
   "execution_count": 26,
   "metadata": {},
   "outputs": [],
   "source": [
    "xlab = 'variance' \n",
    "ylab = 'cycle_life'\n",
    "X = variance_data[xlab].values.reshape(-1, 1) #call the variance column as X and reshape\n",
    "y = variance_data[ylab].values.reshape(-1, 1) #call the cycle life column as y and reshape"
   ]
  },
  {
   "cell_type": "code",
   "execution_count": 27,
   "metadata": {},
   "outputs": [],
   "source": [
    "#since there is a log relationship between the 2 variables, it is important to take the log of both variables.\n",
    "logX = np.log10(X)\n",
    "logy = np.log10(y)"
   ]
  },
  {
   "cell_type": "code",
   "execution_count": 28,
   "metadata": {},
   "outputs": [
    {
     "data": {
      "text/plain": [
       "LinearRegression(copy_X=True, fit_intercept=True, n_jobs=None,\n",
       "         normalize=False)"
      ]
     },
     "execution_count": 28,
     "metadata": {},
     "output_type": "execute_result"
    }
   ],
   "source": [
    "linearModel = lr()\n",
    "linearModel.fit(logX, logy) #find the line of best fit for the data "
   ]
  },
  {
   "cell_type": "code",
   "execution_count": 29,
   "metadata": {},
   "outputs": [],
   "source": [
    "## extracting model parameters\n",
    "a = linearModel.coef_[0][0]\n",
    "b = linearModel.intercept_[0]"
   ]
  },
  {
   "cell_type": "code",
   "execution_count": 30,
   "metadata": {},
   "outputs": [],
   "source": [
    "# calculating the line of best fit\n",
    "y_predicted = np.power(10,b)*np.power(X,a)  "
   ]
  },
  {
   "cell_type": "code",
   "execution_count": 31,
   "metadata": {},
   "outputs": [],
   "source": [
    "#calculating the correlation coefficient\n",
    "pearsonr_coefficient, p_value = pearsonr(logX, logy)"
   ]
  },
  {
   "cell_type": "code",
   "execution_count": 32,
   "metadata": {},
   "outputs": [
    {
     "data": {
      "image/png": "[encoded data removed]",
      "text/plain": [
       "<matplotlib.figure.Figure at 0x2630287ad30>"
      ]
     },
     "metadata": {},
     "output_type": "display_data"
    },
    {
     "name": "stdout",
     "output_type": "stream",
     "text": [
      "R^2 is: [-0.92731589]\n"
     ]
    }
   ],
   "source": [
    "#plotting the data\n",
    "plt.loglog(variance_data[xlab], variance_data[ylab], linestyle='', marker='o')  # plotting the raw data\n",
    "plt.plot(variance_data[xlab], y_predicted)  # plotting \n",
    "plt.xlabel('{}'.format(xlab))\n",
    "plt.ylabel('{}'.format(ylab))\n",
    "plt.show()\n",
    "print(r'R^2 is: {}'.format(pearsonr_coefficient))"
   ]
  },
  {
   "cell_type": "markdown",
   "metadata": {},
   "source": [
    "# Using the elastic net on the variance vs cycle life data"
   ]
  },
  {
   "cell_type": "code",
   "execution_count": 41,
   "metadata": {},
   "outputs": [],
   "source": [
    "#import a few more modules\n",
    "from sklearn.linear_model import ElasticNetCV\n",
    "from sklearn.preprocessing import StandardScaler"
   ]
  },
  {
   "cell_type": "code",
   "execution_count": 42,
   "metadata": {},
   "outputs": [],
   "source": [
    "#used to scale the data\n",
    "sc = StandardScaler()"
   ]
  },
  {
   "cell_type": "code",
   "execution_count": 43,
   "metadata": {},
   "outputs": [],
   "source": [
    "xlab = 'variance' #the title of the variance column\n",
    "ylab = 'cycle_life' #the title of the cycle_life column\n",
    "\n",
    "X = variance_data[xlab].values.reshape(-1, 1) #assigns the CSV values to a variable X. \n",
    "y = variance_data[ylab].values.reshape(-1, 1) #.reshape converts to a 1 by 1 column"
   ]
  },
  {
   "cell_type": "code",
   "execution_count": 44,
   "metadata": {},
   "outputs": [],
   "source": [
    "X = np.log10(X) # does the natural log of each value since there is a logarithmic relationship\n",
    "y = np.log10(y) # between the 2 variables"
   ]
  },
  {
   "cell_type": "code",
   "execution_count": 45,
   "metadata": {},
   "outputs": [],
   "source": [
    "#function for calculating mean percent error\n",
    "def mean_absolute_percentage_error(y_true, y_pred):\n",
    "    percentages = []\n",
    "    for i in range(len(y_true)):\n",
    "        difference = np.abs(y_true[i]-y_pred[i]) / y_true[i]\n",
    "        percentages.append(difference)\n",
    "    return np.mean(percentages)*100"
   ]
  },
  {
   "cell_type": "code",
   "execution_count": 46,
   "metadata": {},
   "outputs": [],
   "source": [
    "#splitting the data into training, test, and secondary test\n",
    "numBat1 = 41 \n",
    "numBat2 = 43\n",
    "numBat3 = 40\n",
    "numBat = numBat1 + numBat2 + numBat3 \n",
    "\n",
    "test_ind = np.hstack((np.arange(0,(numBat1+numBat2),2),83)) #test_ind uses 43 of the 123 variables to test\n",
    "train_ind = np.arange(1,(numBat1+numBat2-1),2) #train_ind uses 41 of the 123 variables to train the model\n",
    "secondary_test_ind = np.arange(numBat-numBat3,numBat); #secondary test is the final test consisting of 39 variables"
   ]
  },
  {
   "cell_type": "code",
   "execution_count": 47,
   "metadata": {},
   "outputs": [],
   "source": [
    "X_train = X[train_ind] #X_train = column of all the variances used to train the model\n",
    "X_test = X[test_ind] #X_test = column of all the variances used to test the model\n",
    "X_secondary_test = X[secondary_test_ind] #X_secondary = column of all  variances used to secondarily test the model\n",
    "\n",
    "y_train = y[train_ind] #y_train is the cycle_life of the first 43 cells\n",
    "y_test = y[test_ind] #y_test is the cycle life of the next 41 cells\n",
    "y_secondary_test = y[secondary_test_ind] #y_secondary_test is the cycle life for the last 43 cells"
   ]
  },
  {
   "cell_type": "code",
   "execution_count": 48,
   "metadata": {},
   "outputs": [
    {
     "name": "stderr",
     "output_type": "stream",
     "text": [
      "C:\\Users\\Mohammed\\Documents\\DE1\\Computing\\lib\\site-packages\\sklearn\\linear_model\\coordinate_descent.py:1109: DataConversionWarning: A column-vector y was passed when a 1d array was expected. Please change the shape of y to (n_samples, ), for example using ravel().\n",
      "  y = column_or_1d(y, warn=True)\n"
     ]
    }
   ],
   "source": [
    "#Applying elastic net using four fold cross validation\n",
    "elastic_net = ElasticNetCV(cv=4, random_state=0) #initialises the elastic net\n",
    "elastic_net.fit(X_train,y_train) #should create the regression. use .coef_ and .intercept\n",
    "y_train_predicted = elastic_net.predict(X_train) #should create prediction of life based on X_train values\n",
    "y_test_predicted = elastic_net.predict(X_test) #should create prediction of life based on X_test values\n",
    "y_secondary_test_predicted = elastic_net.predict(X_secondary_test) #should create prediction of life based on X_secondary values"
   ]
  },
  {
   "cell_type": "code",
   "execution_count": 49,
   "metadata": {},
   "outputs": [],
   "source": [
    "#converts log back into cycle life\n",
    "y = np.power(10,y) \n",
    "y_train_predicted = np.power(10,y_train_predicted)\n",
    "y_test_predicted = np.power(10,y_test_predicted)\n",
    "y_secondary_test_predicted = np.power(10,y_secondary_test_predicted)\n",
    "\n",
    "y_train = np.power(10,y_train)\n",
    "y_test = np.power(10,y_test)\n",
    "y_secondary_test= np.power(10,y_secondary_test)"
   ]
  },
  {
   "cell_type": "code",
   "execution_count": 50,
   "metadata": {},
   "outputs": [
    {
     "data": {
      "image/png": "[encoded data removed]",
      "text/plain": [
       "<matplotlib.figure.Figure at 0x26302a274a8>"
      ]
     },
     "metadata": {},
     "output_type": "display_data"
    },
    {
     "name": "stdout",
     "output_type": "stream",
     "text": [
      "14.134027077373432\n",
      "14.75028995998483\n",
      "11.417312896807955\n"
     ]
    }
   ],
   "source": [
    "fig = plt.figure(figsize=(6,6))\n",
    "ax = fig.add_subplot(111, aspect='equal')\n",
    "ax.scatter(y_train, y_train_predicted,marker ='o')\n",
    "ax.scatter(y_test, y_test_predicted,marker ='s')\n",
    "ax.scatter(y_secondary_test, y_secondary_test_predicted,marker ='^')\n",
    "plt.xlabel('Observed cycle life')\n",
    "plt.ylabel('Predicted cycle life')\n",
    "plt.show()\n",
    "print(mean_absolute_percentage_error(y_train,y_train_predicted))\n",
    "print(mean_absolute_percentage_error(y_test,y_test_predicted))\n",
    "print(mean_absolute_percentage_error(y_secondary_test,y_secondary_test_predicted))"
   ]
  }
 ],
 "metadata": {
  "kernelspec": {
   "display_name": "Python 3",
   "language": "python",
   "name": "python3"
  },
  "language_info": {
   "codemirror_mode": {
    "name": "ipython",
    "version": 3
   },
   "file_extension": ".py",
   "mimetype": "text/x-python",
   "name": "python",
   "nbconvert_exporter": "python",
   "pygments_lexer": "ipython3",
   "version": "3.6.9"
  }
 },
 "nbformat": 4,
 "nbformat_minor": 2
}
